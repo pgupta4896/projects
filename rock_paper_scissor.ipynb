{
  "nbformat": 4,
  "nbformat_minor": 0,
  "metadata": {
    "colab": {
      "name": "rock paper scissor",
      "provenance": []
    },
    "kernelspec": {
      "name": "python3",
      "display_name": "Python 3"
    },
    "language_info": {
      "name": "python"
    }
  },
  "cells": [
    {
      "cell_type": "code",
      "metadata": {
        "id": "izIb7qAi7_I-"
      },
      "source": [
        "import random"
      ],
      "execution_count": null,
      "outputs": []
    },
    {
      "cell_type": "code",
      "metadata": {
        "colab": {
          "base_uri": "https://localhost:8080/"
        },
        "id": "Q-IJ4egp8nwn",
        "outputId": "79dae664-f1a5-4883-9bdf-db08241f4e08"
      },
      "source": [
        "while True:\n",
        "\n",
        "  user_choice = input(\"\\n choose one  rock,paper,scissor \\n\")\n",
        "  possible = [\"rock\",\"paper\",\"scissors\"]\n",
        "  computer_choice =random.choice(possible)\n",
        "  print(computer_choice)\n",
        "  if computer_choice == user_choice:\n",
        "    print(f\"Both players selected {user_action}. It's a tie!\")\n",
        "  elif user_choice== 'rock':\n",
        "    if computer_choice== 'scissors':\n",
        "      print(\"Rock smashes scissors! You win!\")\n",
        "    else:\n",
        "         print(\"Paper covers rock! You lose.\")\n",
        "  elif user_choice == \"paper\":\n",
        "    if computer_choice == \"rock\":\n",
        "         print(\"Paper covers rock! You win!\")\n",
        "    else:\n",
        "         print(\"Scissors cuts paper! You lose.\")\n",
        "  elif user_choice == \"scissors\":\n",
        "     if computer_choice == \"paper\":\n",
        "         print(\"Scissors cuts paper! You win!\")\n",
        "     else:\n",
        "         print(\"Rock smashes scissors! You lose.\")\n",
        "\n",
        "  vote= input(\"do you run agian(y/n) \") \n",
        "  if vote!='y':\n",
        "     break \n",
        "\n",
        "print(\"'thank you ' for playing \")\n",
        "  \n",
        "  "
      ],
      "execution_count": null,
      "outputs": [
        {
          "output_type": "stream",
          "name": "stdout",
          "text": [
            "\n",
            " choose one  rock,paper,scissor \n",
            "rock\n",
            "paper\n",
            "Paper covers rock! You lose.\n",
            "do you run agian(y/n) n\n",
            "'thank you ' for playing this game\n"
          ]
        }
      ]
    },
    {
      "cell_type": "code",
      "metadata": {
        "id": "X7ugsG-I-Vpg"
      },
      "source": [
        ""
      ],
      "execution_count": null,
      "outputs": []
    }
  ]
}